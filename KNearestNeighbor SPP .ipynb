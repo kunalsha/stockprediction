{
 "cells": [
  {
   "cell_type": "code",
   "execution_count": 74,
   "metadata": {},
   "outputs": [],
   "source": [
    "# Import Libs\n",
    "# Python package for Mathmatical libs\n",
    "import math\n",
    "import calendar\n",
    "import numpy as np\n",
    "import pandas as pd\n",
    "\n",
    "# Python package to read data\n",
    "import pandas_datareader as web\n",
    "\n",
    "# Python package for graphical display\n",
    "import matplotlib.pyplot as plt\n",
    "%matplotlib inline\n",
    "\n",
    "# Python package for Data Processing\n",
    "from sklearn.linear_model import LinearRegression\n",
    "from sklearn.model_selection import train_test_split\n",
    "from sklearn import metrics\n",
    "from sklearn import neighbors\n",
    "\n",
    "from sklearn.neighbors import KNeighborsClassifier\n",
    "\n",
    "from sklearn.preprocessing import MinMaxScaler\n",
    "from sklearn.model_selection import GridSearchCV\n",
    "\n",
    "from keras.models import Sequential\n",
    "from keras.layers import Dense, LSTM\n",
    "import seaborn as sns\n",
    "from sklearn.metrics import mean_squared_error, r2_score, confusion_matrix, accuracy_score"
   ]
  },
  {
   "cell_type": "code",
   "execution_count": 79,
   "metadata": {},
   "outputs": [
    {
     "data": {
      "text/plain": [
       "<bound method NDFrame.describe of       Day  Month  Year   Adj Close\n",
       "0       4      1  2010    6.583586\n",
       "1       5      1  2010    6.594968\n",
       "2       6      1  2010    6.490066\n",
       "3       7      1  2010    6.478067\n",
       "4       8      1  2010    6.521136\n",
       "...   ...    ...   ...         ...\n",
       "2763   23     12  2020  130.764603\n",
       "2764   24     12  2020  131.773087\n",
       "2765   28     12  2020  136.486053\n",
       "2766   29     12  2020  134.668762\n",
       "2767   30     12  2020  133.520477\n",
       "\n",
       "[2768 rows x 4 columns]>"
      ]
     },
     "execution_count": 79,
     "metadata": {},
     "output_type": "execute_result"
    }
   ],
   "source": [
    "# Fetch Apple Stock quote from Yahoo for last 10 Years\n",
    "df = web.DataReader('AAPL', data_source='yahoo', start='2010-01-01', end = '2020-12-30')\n",
    "df.reset_index(inplace=True)\n",
    "apple_stock=df[['Date','High','Open','Low','Close','Volume','Adj Close']]\n",
    "apple_stock['Date'] = pd.to_datetime(apple_stock.Date,format='%Y-%m-%d')\n",
    "apple_stock['Year']=apple_stock['Date'].dt.year\n",
    "apple_stock['Month']=apple_stock['Date'].dt.month\n",
    "apple_stock['Day']=apple_stock['Date'].dt.day\n",
    "apple_stock['Timestamp']= apple_stock.index\n",
    "\n",
    "\n",
    "apple_stock = apple_stock[['Day','Month','Year','Adj Close']]\n",
    "#apple_stock = apple_stock[['Timestamp','Adj Close']]\n",
    "\n",
    "apple_stock.describe"
   ]
  },
  {
   "cell_type": "code",
   "execution_count": 80,
   "metadata": {},
   "outputs": [],
   "source": [
    "#split into train and validation\n",
    "training_data_len = math.ceil(len(apple_stock) * .7)\n",
    "train = apple_stock[:training_data_len]\n",
    "test = apple_stock[training_data_len:]\n",
    "\n",
    "x_train = train.drop('Adj Close', axis=1)\n",
    "y_train = train['Adj Close']\n",
    "x_test = test.drop('Adj Close', axis=1)\n",
    "y_test = test['Adj Close']"
   ]
  },
  {
   "cell_type": "code",
   "execution_count": 81,
   "metadata": {},
   "outputs": [],
   "source": [
    "# scaler = MinMaxScaler(feature_range=(0, 1))\n",
    "\n",
    "# #scaling data\n",
    "# x_train_scaled = scaler.fit_transform(x_train)\n",
    "# x_train = pd.DataFrame(x_train_scaled)\n",
    "# x_valid_scaled = scaler.fit_transform(x_test)\n",
    "# x_valid = pd.DataFrame(x_valid_scaled)\n",
    "\n",
    "#using gridsearch to find the best parameter\n",
    "params = {'n_neighbors':[2,3,4,5,6,7,8,9,10,11,12]}\n",
    "knn = neighbors.KNeighborsRegressor()\n",
    "model = GridSearchCV(knn, params, cv=12)\n",
    "\n",
    "#fit the model and make predictions\n",
    "model.fit(x_train,y_train)\n",
    "preds = model.predict(x_test)"
   ]
  },
  {
   "cell_type": "code",
   "execution_count": 82,
   "metadata": {},
   "outputs": [
    {
     "name": "stderr",
     "output_type": "stream",
     "text": [
      "<ipython-input-82-fb7afd9509ac>:3: SettingWithCopyWarning: \n",
      "A value is trying to be set on a copy of a slice from a DataFrame.\n",
      "Try using .loc[row_indexer,col_indexer] = value instead\n",
      "\n",
      "See the caveats in the documentation: https://pandas.pydata.org/pandas-docs/stable/user_guide/indexing.html#returning-a-view-versus-a-copy\n",
      "  test['Predictions'] = 0\n",
      "<ipython-input-82-fb7afd9509ac>:4: SettingWithCopyWarning: \n",
      "A value is trying to be set on a copy of a slice from a DataFrame.\n",
      "Try using .loc[row_indexer,col_indexer] = value instead\n",
      "\n",
      "See the caveats in the documentation: https://pandas.pydata.org/pandas-docs/stable/user_guide/indexing.html#returning-a-view-versus-a-copy\n",
      "  test['Predictions'] = preds\n"
     ]
    },
    {
     "data": {
      "text/plain": [
       "[<matplotlib.lines.Line2D at 0x251ef76c430>,\n",
       " <matplotlib.lines.Line2D at 0x251ef76c3a0>]"
      ]
     },
     "execution_count": 82,
     "metadata": {},
     "output_type": "execute_result"
    },
    {
     "data": {
      "image/png": "[encoded data removed]",
      "text/plain": [
       "<Figure size 432x288 with 1 Axes>"
      ]
     },
     "metadata": {
      "needs_background": "light"
     },
     "output_type": "display_data"
    }
   ],
   "source": [
    "preds=model.predict(x_test)\n",
    "#plot\n",
    "test['Predictions'] = 0\n",
    "test['Predictions'] = preds\n",
    "training_data_len = math.ceil(len(apple_stock) * .7)\n",
    "\n",
    "test.index = apple_stock[training_data_len:].index\n",
    "train.index = apple_stock[:training_data_len].index\n",
    "\n",
    "plt.plot(train['Adj Close'])\n",
    "plt.plot(test[['Adj Close', 'Predictions']])"
   ]
  },
  {
   "cell_type": "code",
   "execution_count": 83,
   "metadata": {},
   "outputs": [
    {
     "name": "stdout",
     "output_type": "stream",
     "text": [
      "Mean Squared Error: 1477.49\n",
      "Mean Absolute Error: 28.85\n",
      "Root Mean Squared Error: 38.44\n"
     ]
    }
   ],
   "source": [
    "# The Root mean square\n",
    "\n",
    "print('Mean Squared Error: %.2f' % metrics.mean_squared_error(y_test, preds))\n",
    "print('Mean Absolute Error: %.2f' % metrics.mean_absolute_error(y_test, preds))\n",
    "print('Root Mean Squared Error: %.2f' % math.sqrt(metrics.mean_squared_error(y_test, preds)))"
   ]
  },
  {
   "cell_type": "code",
   "execution_count": 84,
   "metadata": {},
   "outputs": [
    {
     "data": {
      "text/plain": [
       "Text(0, 0.5, 'preds')"
      ]
     },
     "execution_count": 84,
     "metadata": {},
     "output_type": "execute_result"
    },
    {
     "data": {
      "image/png": "[encoded data removed]",
      "text/plain": [
       "<Figure size 432x288 with 1 Axes>"
      ]
     },
     "metadata": {
      "needs_background": "light"
     },
     "output_type": "display_data"
    }
   ],
   "source": [
    "## The line / model\n",
    "plt.scatter(y_test, preds)\n",
    "plt.xlabel('Adj Close')\n",
    "plt.ylabel('preds')"
   ]
  },
  {
   "cell_type": "code",
   "execution_count": 40,
   "metadata": {},
   "outputs": [
    {
     "data": {
      "text/plain": [
       "-0.6012334138951057"
      ]
     },
     "execution_count": 40,
     "metadata": {},
     "output_type": "execute_result"
    }
   ],
   "source": [
    "model.score(x_test,y_test)\n"
   ]
  },
  {
   "cell_type": "code",
   "execution_count": null,
   "metadata": {},
   "outputs": [],
   "source": []
  },
  {
   "cell_type": "code",
   "execution_count": null,
   "metadata": {},
   "outputs": [],
   "source": []
  }
 ],
 "metadata": {
  "kernelspec": {
   "display_name": "Python 3",
   "language": "python",
   "name": "python3"
  },
  "language_info": {
   "codemirror_mode": {
    "name": "ipython",
    "version": 3
   },
   "file_extension": ".py",
   "mimetype": "text/x-python",
   "name": "python",
   "nbconvert_exporter": "python",
   "pygments_lexer": "ipython3",
   "version": "3.8.5"
  }
 },
 "nbformat": 4,
 "nbformat_minor": 4
}
