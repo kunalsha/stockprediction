{
 "cells": [
  {
   "cell_type": "code",
   "execution_count": 2,
   "metadata": {},
   "outputs": [],
   "source": [
    "# Import Libs\n",
    "# Python package for Mathmatical libs\n",
    "import math\n",
    "import calendar\n",
    "import numpy as np\n",
    "import pandas as pd\n",
    "\n",
    "# Python package to read data\n",
    "import pandas_datareader as web\n",
    "\n",
    "# Python package for graphical display\n",
    "import matplotlib.pyplot as plt\n",
    "%matplotlib inline\n",
    "\n",
    "# Python package for Data Processing\n",
    "from sklearn.linear_model import LinearRegression\n",
    "from sklearn.model_selection import train_test_split\n",
    "from sklearn import metrics\n",
    "\n",
    "from keras.models import Sequential\n",
    "from keras.layers import Dense, LSTM\n",
    "import seaborn as sns\n",
    "from sklearn.metrics import mean_squared_error, r2_score\n",
    "import matplotlib.pyplot as plt\n",
    "from pandas.plotting import lag_plot\n",
    "import datetime\n",
    "from statsmodels.tsa.arima_model import ARIMA\n",
    "from sklearn.metrics import mean_squared_error\n",
    "\n",
    "# Python package to read data\n",
    "import pandas_datareader as web\n",
    "\n"
   ]
  },
  {
   "cell_type": "code",
   "execution_count": 3,
   "metadata": {},
   "outputs": [
    {
     "data": {
      "text/html": [
       "<div>\n",
       "<style scoped>\n",
       "    .dataframe tbody tr th:only-of-type {\n",
       "        vertical-align: middle;\n",
       "    }\n",
       "\n",
       "    .dataframe tbody tr th {\n",
       "        vertical-align: top;\n",
       "    }\n",
       "\n",
       "    .dataframe thead th {\n",
       "        text-align: right;\n",
       "    }\n",
       "</style>\n",
       "<table border=\"1\" class=\"dataframe\">\n",
       "  <thead>\n",
       "    <tr style=\"text-align: right;\">\n",
       "      <th></th>\n",
       "      <th>High</th>\n",
       "      <th>Low</th>\n",
       "      <th>Open</th>\n",
       "      <th>Close</th>\n",
       "      <th>Volume</th>\n",
       "      <th>Adj Close</th>\n",
       "    </tr>\n",
       "  </thead>\n",
       "  <tbody>\n",
       "    <tr>\n",
       "      <th>count</th>\n",
       "      <td>290.000000</td>\n",
       "      <td>290.000000</td>\n",
       "      <td>290.000000</td>\n",
       "      <td>290.000000</td>\n",
       "      <td>2.900000e+02</td>\n",
       "      <td>290.000000</td>\n",
       "    </tr>\n",
       "    <tr>\n",
       "      <th>mean</th>\n",
       "      <td>101.466130</td>\n",
       "      <td>98.606888</td>\n",
       "      <td>100.060276</td>\n",
       "      <td>100.097758</td>\n",
       "      <td>1.509478e+08</td>\n",
       "      <td>99.693670</td>\n",
       "    </tr>\n",
       "    <tr>\n",
       "      <th>std</th>\n",
       "      <td>24.230887</td>\n",
       "      <td>23.674329</td>\n",
       "      <td>24.152399</td>\n",
       "      <td>23.934512</td>\n",
       "      <td>6.825816e+07</td>\n",
       "      <td>24.078434</td>\n",
       "    </tr>\n",
       "    <tr>\n",
       "      <th>min</th>\n",
       "      <td>57.125000</td>\n",
       "      <td>53.152500</td>\n",
       "      <td>57.020000</td>\n",
       "      <td>56.092499</td>\n",
       "      <td>4.669130e+07</td>\n",
       "      <td>55.661041</td>\n",
       "    </tr>\n",
       "    <tr>\n",
       "      <th>25%</th>\n",
       "      <td>79.607498</td>\n",
       "      <td>77.846249</td>\n",
       "      <td>78.598124</td>\n",
       "      <td>78.743124</td>\n",
       "      <td>1.038144e+08</td>\n",
       "      <td>78.100435</td>\n",
       "    </tr>\n",
       "    <tr>\n",
       "      <th>50%</th>\n",
       "      <td>99.602501</td>\n",
       "      <td>96.672501</td>\n",
       "      <td>99.081249</td>\n",
       "      <td>98.041248</td>\n",
       "      <td>1.338080e+08</td>\n",
       "      <td>97.550476</td>\n",
       "    </tr>\n",
       "    <tr>\n",
       "      <th>75%</th>\n",
       "      <td>122.567501</td>\n",
       "      <td>118.749998</td>\n",
       "      <td>120.287500</td>\n",
       "      <td>120.837498</td>\n",
       "      <td>1.771206e+08</td>\n",
       "      <td>120.449390</td>\n",
       "    </tr>\n",
       "    <tr>\n",
       "      <th>max</th>\n",
       "      <td>145.089996</td>\n",
       "      <td>141.369995</td>\n",
       "      <td>143.600006</td>\n",
       "      <td>143.160004</td>\n",
       "      <td>4.268848e+08</td>\n",
       "      <td>142.946396</td>\n",
       "    </tr>\n",
       "  </tbody>\n",
       "</table>\n",
       "</div>"
      ],
      "text/plain": [
       "             High         Low        Open       Close        Volume  \\\n",
       "count  290.000000  290.000000  290.000000  290.000000  2.900000e+02   \n",
       "mean   101.466130   98.606888  100.060276  100.097758  1.509478e+08   \n",
       "std     24.230887   23.674329   24.152399   23.934512  6.825816e+07   \n",
       "min     57.125000   53.152500   57.020000   56.092499  4.669130e+07   \n",
       "25%     79.607498   77.846249   78.598124   78.743124  1.038144e+08   \n",
       "50%     99.602501   96.672501   99.081249   98.041248  1.338080e+08   \n",
       "75%    122.567501  118.749998  120.287500  120.837498  1.771206e+08   \n",
       "max    145.089996  141.369995  143.600006  143.160004  4.268848e+08   \n",
       "\n",
       "        Adj Close  \n",
       "count  290.000000  \n",
       "mean    99.693670  \n",
       "std     24.078434  \n",
       "min     55.661041  \n",
       "25%     78.100435  \n",
       "50%     97.550476  \n",
       "75%    120.449390  \n",
       "max    142.946396  "
      ]
     },
     "execution_count": 3,
     "metadata": {},
     "output_type": "execute_result"
    }
   ],
   "source": [
    "# Fetch Apple Stock quote from Yahoo for last 10 Years\n",
    "\n",
    "apple_stock = web.DataReader('AAPL', data_source='yahoo', start='2020-01-01', end = '2021-2-25')\n",
    "apple_stock.describe()"
   ]
  },
  {
   "cell_type": "code",
   "execution_count": 5,
   "metadata": {
    "scrolled": true
   },
   "outputs": [
    {
     "data": {
      "text/plain": [
       "<bound method NDFrame.describe of           Date        High        Open         Low       Close       Volume  \\\n",
       "0   2020-01-02   75.150002   74.059998   73.797501   75.087502  135480400.0   \n",
       "1   2020-01-03   75.144997   74.287498   74.125000   74.357498  146322800.0   \n",
       "2   2020-01-06   74.989998   73.447502   73.187500   74.949997  118387200.0   \n",
       "3   2020-01-07   75.224998   74.959999   74.370003   74.597504  108872000.0   \n",
       "4   2020-01-08   76.110001   74.290001   74.290001   75.797501  132079200.0   \n",
       "..         ...         ...         ...         ...         ...          ...   \n",
       "285 2021-02-19  130.710007  130.240005  128.800003  129.869995   87525900.0   \n",
       "286 2021-02-22  129.720001  128.009995  125.599998  126.000000  103607600.0   \n",
       "287 2021-02-23  126.709999  123.760002  118.389999  125.860001  157859100.0   \n",
       "288 2021-02-24  125.559998  124.940002  122.230003  125.349998  110691500.0   \n",
       "289 2021-02-25  126.459999  124.680000  120.540001  120.989998  147306500.0   \n",
       "\n",
       "      Adj Close  \n",
       "0     74.333511  \n",
       "1     73.610840  \n",
       "2     74.197395  \n",
       "3     73.848442  \n",
       "4     75.036385  \n",
       "..          ...  \n",
       "285  129.869995  \n",
       "286  126.000000  \n",
       "287  125.860001  \n",
       "288  125.349998  \n",
       "289  120.989998  \n",
       "\n",
       "[290 rows x 7 columns]>"
      ]
     },
     "execution_count": 5,
     "metadata": {},
     "output_type": "execute_result"
    }
   ],
   "source": [
    "# Apple Stock Data\n",
    "apple_stock.shape\n",
    "apple_stock.head(8)\n",
    "apple_stock.reset_index(inplace=True)\n",
    "\n",
    "apple_stock=apple_stock[['Date','High','Open','Low','Close','Volume','Adj Close']]\n",
    "\n",
    "apple_stock['Date'] = pd.to_datetime(apple_stock.Date,format='%Y-%m-%d')\n",
    "\n",
    "df=apple_stock\n",
    "df.describe"
   ]
  },
  {
   "cell_type": "code",
   "execution_count": 6,
   "metadata": {
    "scrolled": false
   },
   "outputs": [
    {
     "data": {
      "image/png": "[encoded data removed]",
      "text/plain": [
       "<Figure size 432x288 with 1 Axes>"
      ]
     },
     "metadata": {
      "needs_background": "light"
     },
     "output_type": "display_data"
    }
   ],
   "source": [
    "plt.figure()\n",
    "lag_plot(apple_stock['Open'], lag=3)\n",
    "plt.title('TESLA Stock - Autocorrelation plot with lag = 3')\n",
    "plt.show()"
   ]
  },
  {
   "cell_type": "code",
   "execution_count": null,
   "metadata": {},
   "outputs": [],
   "source": [
    "model = auto_arima()"
   ]
  },
  {
   "cell_type": "code",
   "execution_count": 7,
   "metadata": {},
   "outputs": [
    {
     "name": "stderr",
     "output_type": "stream",
     "text": [
      "F:\\anaconda3\\lib\\site-packages\\statsmodels\\tsa\\arima_model.py:472: FutureWarning: \n",
      "statsmodels.tsa.arima_model.ARMA and statsmodels.tsa.arima_model.ARIMA have\n",
      "been deprecated in favor of statsmodels.tsa.arima.model.ARIMA (note the .\n",
      "between arima and model) and\n",
      "statsmodels.tsa.SARIMAX. These will be removed after the 0.12 release.\n",
      "\n",
      "statsmodels.tsa.arima.model.ARIMA makes use of the statespace framework and\n",
      "is both well tested and maintained.\n",
      "\n",
      "To silence this warning and continue using ARMA and ARIMA until they are\n",
      "removed, use:\n",
      "\n",
      "import warnings\n",
      "warnings.filterwarnings('ignore', 'statsmodels.tsa.arima_model.ARMA',\n",
      "                        FutureWarning)\n",
      "warnings.filterwarnings('ignore', 'statsmodels.tsa.arima_model.ARIMA',\n",
      "                        FutureWarning)\n",
      "\n",
      "  warnings.warn(ARIMA_DEPRECATION_WARN, FutureWarning)\n"
     ]
    },
    {
     "name": "stdout",
     "output_type": "stream",
     "text": [
      "Testing Mean Squared Error is 6.483155852763322\n"
     ]
    }
   ],
   "source": [
    "train_data, test_data = apple_stock[0:int(len(apple_stock)*0.7)], apple_stock[int(len(apple_stock)*0.7):]\n",
    "training_data = train_data['Adj Close'].values\n",
    "test_data = test_data['Adj Close'].values\n",
    "history = [x for x in training_data]\n",
    "model_predictions = []\n",
    "N_test_observations = len(test_data)\n",
    "for time_point in range(N_test_observations):\n",
    "    model = ARIMA(history, order=(4,1,0))\n",
    "    model_fit = model.fit(disp=0)\n",
    "    output = model_fit.forecast()\n",
    "    yhat = output[0]\n",
    "    model_predictions.append(yhat)\n",
    "    true_test_value = test_data[time_point]\n",
    "    history.append(true_test_value)\n",
    "MSE_error = mean_squared_error(test_data, model_predictions)\n",
    "print('Testing Mean Squared Error is {}'.format(MSE_error))"
   ]
  },
  {
   "cell_type": "code",
   "execution_count": 8,
   "metadata": {},
   "outputs": [
    {
     "data": {
      "image/png": "[encoded data removed]",
      "text/plain": [
       "<Figure size 432x288 with 1 Axes>"
      ]
     },
     "metadata": {
      "needs_background": "light"
     },
     "output_type": "display_data"
    }
   ],
   "source": [
    "test_set_range = df[int(len(df)*0.7):].index\n",
    "plt.plot(test_set_range, model_predictions, color='blue', marker='o', linestyle='dashed',label='Predicted Price')\n",
    "plt.plot(test_set_range, test_data, color='red', label='Actual Price')\n",
    "plt.title('TESLA Prices Prediction')\n",
    "plt.xlabel('Date')\n",
    "plt.ylabel('Prices')\n",
    "# plt.xticks(np.arange(881,1259,50), df.Date[881:1259:50])\n",
    "plt.legend()\n",
    "plt.show()"
   ]
  }
 ],
 "metadata": {
  "kernelspec": {
   "display_name": "Python 3",
   "language": "python",
   "name": "python3"
  },
  "language_info": {
   "codemirror_mode": {
    "name": "ipython",
    "version": 3
   },
   "file_extension": ".py",
   "mimetype": "text/x-python",
   "name": "python",
   "nbconvert_exporter": "python",
   "pygments_lexer": "ipython3",
   "version": "3.8.5"
  }
 },
 "nbformat": 4,
 "nbformat_minor": 4
}
